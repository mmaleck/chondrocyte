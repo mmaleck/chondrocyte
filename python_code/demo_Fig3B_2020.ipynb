{
 "cells": [
  {
   "cell_type": "markdown",
   "metadata": {},
   "source": [
    "**Intracellular electrolyte homeostasis in the setting of altered Na+/K+ pupm activity/turnover rate due to a step change in temperatur.** (see Figure 3B in Maleckar et al. 2020)\n",
    "\n",
    "Simulation starts from a steady state solution for 23C. The simulation temperatur is 37C. "
   ]
  },
  {
   "cell_type": "code",
   "execution_count": null,
   "metadata": {},
   "outputs": [],
   "source": [
    "import numpy as np\n",
    "from scipy.integrate.odepack import odeint\n",
    "import matplotlib.pyplot as plt"
   ]
  },
  {
   "cell_type": "code",
   "execution_count": null,
   "metadata": {},
   "outputs": [],
   "source": [
    "import functions\n",
    "from params import params_dict"
   ]
  },
  {
   "cell_type": "code",
   "execution_count": null,
   "metadata": {},
   "outputs": [],
   "source": [
    "# define time span\n",
    "params_dict[\"t_final\"] = 50\n",
    "t_final = params_dict[\"t_final\"]\n",
    "params_dict[\"dt\"] = 1e-2\n",
    "dt = params_dict[\"dt\"]\n",
    "t = np.linspace(0, t_final, int(t_final/dt))"
   ]
  },
  {
   "cell_type": "code",
   "execution_count": null,
   "metadata": {},
   "outputs": [],
   "source": [
    "#set simulation specific parameters\n",
    "params_dict[\"clamp_Na_i\"] = False\n",
    "params_dict[\"clamp_K_i\"] = False\n",
    "params_dict[\"I_NaK_scale\"] = 1.625*4.65\n",
    "params_dict[\"I_NaK_bar\"] = params_dict[\"I_NaK_scale\"]*70.8253*params_dict[\"C_m\"]/params_dict[\"C_myo\"]"
   ]
  },
  {
   "cell_type": "code",
   "execution_count": null,
   "metadata": {},
   "outputs": [],
   "source": [
    "# Define initial condition vector\n",
    "y0 = (params_dict[\"V_0\"], params_dict[\"Na_i_0\"], params_dict[\"K_i_0\"], params_dict[\"Ca_i_0\"], params_dict[\"H_i_0\"], \n",
    "      params_dict[\"Cl_i_0\"], params_dict[\"a_ur_0\"], params_dict[\"i_ur_0\"], params_dict[\"vol_i_0\"], \n",
    "      params_dict[\"cal_0\"])"
   ]
  },
  {
   "cell_type": "code",
   "execution_count": null,
   "metadata": {},
   "outputs": [],
   "source": [
    "#solve the ODE system which is imported with chondrocyte\n",
    "solution = odeint(functions.rhs, y0, t, args=(params_dict,))"
   ]
  },
  {
   "cell_type": "code",
   "execution_count": null,
   "metadata": {},
   "outputs": [],
   "source": [
    "plt.figure()\n",
    "plt.plot(t, solution[:,0])\n",
    "plt.title('Membrane Potential')\n",
    "\n",
    "plt.figure()\n",
    "plt.plot(t, solution[:,1])\n",
    "plt.title('Na_i')\n",
    "\n",
    "plt.figure()\n",
    "plt.plot(t, solution[:,2])\n",
    "plt.title('K_i')\n",
    "\n",
    "plt.figure()\n",
    "plt.plot(t, solution[:,3])\n",
    "plt.title('Ca_i')"
   ]
  }
 ],
 "metadata": {
  "kernelspec": {
   "display_name": "Python 3",
   "language": "python",
   "name": "python3"
  },
  "language_info": {
   "codemirror_mode": {
    "name": "ipython",
    "version": 3
   },
   "file_extension": ".py",
   "mimetype": "text/x-python",
   "name": "python",
   "nbconvert_exporter": "python",
   "pygments_lexer": "ipython3",
   "version": "3.8.2"
  }
 },
 "nbformat": 4,
 "nbformat_minor": 4
}
