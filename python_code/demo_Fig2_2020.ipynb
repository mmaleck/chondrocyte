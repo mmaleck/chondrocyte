{
 "cells": [
  {
   "cell_type": "markdown",
   "metadata": {},
   "source": [
    "**Temperature-dependent contribution of the Na+/K+ pump electrogenic current to the chondrocyte resting mem- brane potential.** (see Figure 2 in Maleckar et al. 2020)\n",
    "\n",
    "Explaination"
   ]
  },
  {
   "cell_type": "code",
   "execution_count": null,
   "metadata": {},
   "outputs": [],
   "source": [
    "import numpy as np\n",
    "from scipy.integrate.odepack import odeint\n",
    "import matplotlib.pyplot as plt"
   ]
  },
  {
   "cell_type": "code",
   "execution_count": null,
   "metadata": {},
   "outputs": [],
   "source": [
    "import chondrocyte\n",
    "from params import params_dict"
   ]
  },
  {
   "cell_type": "code",
   "execution_count": null,
   "metadata": {},
   "outputs": [],
   "source": [
    "# define time span\n",
    "params_dict[\"t_final\"] = 50\n",
    "t_final = params_dict[\"t_final\"]\n",
    "params_dict[\"dt\"] = 1e-2\n",
    "dt = params_dict[\"dt\"]\n",
    "t = np.linspace(0, t_final, int(t_final/dt))"
   ]
  },
  {
   "cell_type": "code",
   "execution_count": null,
   "metadata": {},
   "outputs": [],
   "source": [
    "# Define initial condition vector\n",
    "y0 = (params_dict[\"V_0\"], params_dict[\"Na_i_0\"], params_dict[\"K_i_0\"], params_dict[\"Ca_i_0\"], params_dict[\"H_i_0\"], \n",
    "      params_dict[\"Cl_i_0\"], params_dict[\"a_ur_0\"], params_dict[\"i_ur_0\"], params_dict[\"vol_i_0\"], \n",
    "      params_dict[\"cal_0\"])"
   ]
  },
  {
   "cell_type": "code",
   "execution_count": null,
   "metadata": {},
   "outputs": [],
   "source": [
    "#step throught holding potentials\n",
    "def HoldingPotential(solution):\n",
    "    V = solution23[:,0]\n",
    "    longth = V.shape[0]\n",
    "    # get steady-state ion concentrations\n",
    "    Ca_i_ss = solution23[:,3][longth-1]\n",
    "\n",
    "    V_step_size = 2501\n",
    "    VV = np.linspace(-100, 100, V_step_size)\n",
    "\n",
    "    current_dict = {\n",
    "        \"I_K_DR\" : np.zeros(V_step_size), \n",
    "        \"I_NaK\" : np.zeros(V_step_size),\n",
    "        \"I_NaCa\" : np.zeros(V_step_size), \n",
    "        \"I_Ca_ATP\" : np.zeros(V_step_size),\n",
    "        \"I_K_ATP\" : np.zeros(V_step_size),\n",
    "        \"I_K_2pore\": np.zeros(V_step_size),\n",
    "        \"I_Na_b\" : np.zeros(V_step_size),\n",
    "        \"I_K_b\" : np.zeros(V_step_size),\n",
    "        \"I_Cl_b\" : np.zeros(V_step_size),\n",
    "        \"I_leak\" : np.zeros(V_step_size),\n",
    "        \"I_bq\" : np.zeros(V_step_size),\n",
    "        \"I_BK\" : np.zeros(V_step_size),\n",
    "        \"I_TRPV4\" : np.zeros(V_step_size),\n",
    "        \"I_RMP\" : np.zeros(V_step_size), \n",
    "        \"I_total\" : np.zeros(V_step_size)\n",
    "        }\n",
    "\n",
    "    C_m = params_dict[\"C_m\"]\n",
    "\n",
    "    for i in range(V_step_size):\n",
    "\n",
    "        # I_K_DR (printed in pA/pF)\n",
    "        current_dict[\"I_K_DR\"][i] = chondrocyte.DelayedRectifierPotassium(V=VV[i], enable_I_K_DR=True)/C_m\n",
    "\n",
    "        # I_Na_K (pA; printed IV pA/pF)\n",
    "        current_dict[\"I_NaK\"][i]= chondrocyte.sodiumPotassiumPump(V=VV[i], K_o=params_dict[\"K_o\"], Na_i_0=params_dict[\"Na_i_clamp\"], enable_I_NaK=True)/C_m\n",
    "\n",
    "        # I_NaCa (pA; printed IV pA/pF)\n",
    "        current_dict[\"I_NaCa\"][i] = chondrocyte.sodiumCalciumExchanger(V=VV[i], Ca_i=params_dict[\"Ca_i_0\"], Na_i_0=params_dict[\"Na_i_clamp\"], enable_I_NaCa=True)/C_m\n",
    "\n",
    "        # I_Ca_ATP (pA)\n",
    "        current_dict[\"I_Ca_ATP\"][i] = chondrocyte.calciumPump(Ca_i=Ca_i_ss, enable_I_Ca_ATP=True)\n",
    "\n",
    "        # I_K_ATP (pA?) Zhou/Ferrero, Biophys J, 2009\n",
    "        # TODO: it is complex number in the beginning of iterations. need to fix (by Kei)\n",
    "        current_dict[\"I_K_ATP\"][i] = chondrocyte.potassiumPump(V=VV[i], K_i=0, K_o=params_dict[\"K_o\"],E_K=-94.02, enable_I_K_ATP=True)\n",
    "\n",
    "        # I_K_2pore (pA; pA/pF in print) \n",
    "        # modeled as a simple Boltzmann relationship via GHK, scaled to match isotonic K+ data from Bob Clark\n",
    "        current_dict[\"I_K_2pore\"][i] = chondrocyte.twoPorePotassium(V=VV[i], K_i_0=params_dict[\"K_i_0\"], K_o=params_dict[\"K_o\"], Q=params_dict[\"Q\"], enable_I_K_2pore=True)/C_m\n",
    "\n",
    "        # I_Na_b (pA; pA/pF in print)\n",
    "        current_dict[\"I_Na_b\"][i] = chondrocyte.backgroundSodium(V=VV[i], Na_i=None, E_Na=params_dict[\"E_Na\"], enable_I_Na_b=True)/C_m\n",
    "\n",
    "        # I_K_b (pA; pA/pF in print)\n",
    "        current_dict[\"I_K_b\"][i] = chondrocyte.backgroundPotassium(V=VV[i], K_i=None, K_o=None, g_K_b_bar=params_dict[\"g_K_b_bar\"], E_K=-83, enable_I_K_b=True)/C_m\n",
    "\n",
    "        # I_Cl_b (pA; pA/pF in print)\n",
    "        current_dict[\"I_Cl_b\"][i] = chondrocyte.backgroundChloride(V=VV[i], Cl_i=None, enable_I_Cl_b=True)/C_m\n",
    "\n",
    "        # I_leak (pA); not printed, added to I_bg\n",
    "        current_dict[\"I_leak\"][i] = chondrocyte.backgroundLeak(V=VV[i], enable_I_leak=False)\n",
    "\n",
    "        # I_bg (pA; pA/pF in print)\n",
    "        current_dict[\"I_bq\"][i] = current_dict[\"I_Na_b\"][i] + current_dict[\"I_K_b\"][i] + current_dict[\"I_Cl_b\"][i] + current_dict[\"I_leak\"][i]\n",
    "\n",
    "        # I_K_Ca_act (new version) (pA; pA/pF in print), with converted Ca_i units for model\n",
    "        current_dict[\"I_BK\"][i] = chondrocyte.calciumActivatedPotassium(V=VV[i], Ca_i=Ca_i_ss, enable_I_K_Ca_act=True)/C_m\n",
    "\n",
    "        # I TRPV4 (pA; pA/pF in print)\n",
    "        current_dict[\"I_TRPV4\"][i] = chondrocyte.TripCurrent(V=VV[i], enable_I_TRPV4=True)/C_m\n",
    "\n",
    "        # I_RMP (pA; pA/pF in print)\n",
    "        current_dict[\"I_RMP\"][i] = current_dict[\"I_bq\"][i] + current_dict[\"I_BK\"][i] + current_dict[\"I_K_DR\"][i] \\\n",
    "                                + current_dict[\"I_NaCa\"][i] + current_dict[\"I_NaK\"][i] + current_dict[\"I_K_2pore\"][i]\n",
    "\n",
    "        # I_total (pA)\n",
    "        # TODO: not yet verifiyed due to \"I_K_ATP\"(by Kei)\n",
    "        current_dict[\"I_total\"][i] = current_dict[\"I_NaK\"][i]*C_m + current_dict[\"I_NaCa\"][i]*C_m + current_dict[\"I_Ca_ATP\"][i] + \\\n",
    "                            current_dict[\"I_K_DR\"][i]*C_m +  current_dict[\"I_K_2pore\"][i]*C_m + current_dict[\"I_K_ATP\"][i] + \\\n",
    "                            current_dict[\"I_BK\"][i] + current_dict[\"I_Na_b\"][i]*C_m + current_dict[\"I_K_b\"][i]*C_m + \\\n",
    "                            current_dict[\"I_Cl_b\"][i]*C_m + current_dict[\"I_leak\"][i] + current_dict[\"I_TRPV4\"][i]*C_m\n",
    "\n",
    "    return (VV, current_dict)"
   ]
  },
  {
   "cell_type": "markdown",
   "metadata": {},
   "source": [
    "**Simulation for 23C (Fig. 2A)**"
   ]
  },
  {
   "cell_type": "code",
   "execution_count": null,
   "metadata": {},
   "outputs": [],
   "source": [
    "#set simulation specific parameters\n",
    "params_dict[\"I_NaK_scale\"] = 1.625\n",
    "params_dict[\"I_NaK_bar\"] = params_dict[\"I_NaK_scale\"]*70.8253*params_dict[\"C_m\"]/params_dict[\"C_myo\"]"
   ]
  },
  {
   "cell_type": "code",
   "execution_count": null,
   "metadata": {},
   "outputs": [],
   "source": [
    "#solve the ODE system which is imported with chondrocyte\n",
    "solution23 = odeint(chondrocyte.rhs, y0, t, args=(params_dict,))"
   ]
  },
  {
   "cell_type": "code",
   "execution_count": null,
   "metadata": {},
   "outputs": [],
   "source": [
    "VV, current23 = HoldingPotential(solution23)"
   ]
  },
  {
   "cell_type": "code",
   "execution_count": null,
   "metadata": {},
   "outputs": [],
   "source": [
    "plt.plot(VV, current23[\"I_NaK\"])\n",
    "plt.plot(VV, current23[\"I_K_2pore\"])\n",
    "plt.plot(VV, current23[\"I_Na_b\"])"
   ]
  },
  {
   "cell_type": "markdown",
   "metadata": {},
   "source": [
    "**Simulation for 37C (Fig. 2B)**"
   ]
  },
  {
   "cell_type": "code",
   "execution_count": null,
   "metadata": {},
   "outputs": [],
   "source": [
    "params_dict[\"I_NaK_scale\"] = 1.625*4.65\n",
    "params_dict[\"I_NaK_bar\"] = params_dict[\"I_NaK_scale\"]*70.8253*params_dict[\"C_m\"]/params_dict[\"C_myo\"]"
   ]
  },
  {
   "cell_type": "code",
   "execution_count": null,
   "metadata": {},
   "outputs": [],
   "source": [
    "solution37 = odeint(chondrocyte.rhs, y0, t, args=(params_dict,))\n",
    "VV, current37 = HoldingPotential(solution37)"
   ]
  },
  {
   "cell_type": "code",
   "execution_count": null,
   "metadata": {},
   "outputs": [],
   "source": [
    "plt.plot(VV, current37[\"I_NaK\"])\n",
    "plt.plot(VV, current37[\"I_K_2pore\"])\n",
    "plt.plot(VV, current37[\"I_Na_b\"])"
   ]
  },
  {
   "cell_type": "markdown",
   "metadata": {},
   "source": [
    "**Simulation of membran potential over time (Fig. 2C)**"
   ]
  },
  {
   "cell_type": "code",
   "execution_count": null,
   "metadata": {},
   "outputs": [],
   "source": [
    "plt.plot(t, solution23[:,0])\n",
    "plt.plot(t, solution37[:,0])"
   ]
  },
  {
   "cell_type": "code",
   "execution_count": null,
   "metadata": {},
   "outputs": [],
   "source": []
  }
 ],
 "metadata": {
  "interpreter": {
   "hash": "a50fc30a4f44fcde812872b6bef85e51aa13ca528ff3a05721b9ca2a18fe29d7"
  },
  "kernelspec": {
   "display_name": "Python 3",
   "language": "python",
   "name": "python3"
  },
  "language_info": {
   "codemirror_mode": {
    "name": "ipython",
    "version": 3
   },
   "file_extension": ".py",
   "mimetype": "text/x-python",
   "name": "python",
   "nbconvert_exporter": "python",
   "pygments_lexer": "ipython3",
   "version": "3.8.2"
  }
 },
 "nbformat": 4,
 "nbformat_minor": 4
}
