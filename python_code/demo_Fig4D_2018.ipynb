{
 "cells": [
  {
   "cell_type": "code",
   "execution_count": null,
   "source": [
    "import numpy as np\n",
    "from scipy.integrate.odepack import odeint\n",
    "import matplotlib.pyplot as plt"
   ],
   "outputs": [],
   "metadata": {}
  },
  {
   "cell_type": "code",
   "execution_count": 2,
   "source": [
    "import functions\n",
    "from chondrocyte import Voltage_clamp\n",
    "from params import params_dict"
   ],
   "outputs": [],
   "metadata": {}
  },
  {
   "cell_type": "code",
   "execution_count": 3,
   "source": [
    "# define time span\n",
    "params_dict[\"t_final\"] = 100\n",
    "t_final = params_dict[\"t_final\"]\n",
    "params_dict[\"dt\"] = 1e-2\n",
    "dt = params_dict[\"dt\"]\n",
    "t = np.linspace(0, t_final, int(t_final/dt))"
   ],
   "outputs": [],
   "metadata": {}
  },
  {
   "cell_type": "code",
   "execution_count": 4,
   "source": [
    "# Define initial condition vector\n",
    "y0 = (params_dict[\"V_0\"], params_dict[\"Na_i_0\"], params_dict[\"K_i_0\"], params_dict[\"Ca_i_0\"], params_dict[\"H_i_0\"], \n",
    "      params_dict[\"Cl_i_0\"], params_dict[\"a_ur_0\"], params_dict[\"i_ur_0\"], params_dict[\"vol_i_0\"], \n",
    "      params_dict[\"cal_0\"])"
   ],
   "outputs": [],
   "metadata": {}
  },
  {
   "cell_type": "code",
   "execution_count": 5,
   "source": [
    "#solve the ODE system which is imported with chondrocyte\n",
    "solution10 = odeint(functions.rhs, y0, t, args=(params_dict,))"
   ],
   "outputs": [],
   "metadata": {}
  },
  {
   "cell_type": "code",
   "execution_count": 6,
   "source": [
    "VV, current10 = Voltage_clamp(solution10)"
   ],
   "outputs": [],
   "metadata": {}
  },
  {
   "cell_type": "code",
   "execution_count": 7,
   "source": [
    "# update parameter\n",
    "params_dict[\"Ca_i_0\"] = 0.000175"
   ],
   "outputs": [],
   "metadata": {}
  },
  {
   "cell_type": "code",
   "execution_count": 8,
   "source": [
    "solution175 = odeint(functions.rhs, y0, t, args=(params_dict,))"
   ],
   "outputs": [],
   "metadata": {}
  },
  {
   "cell_type": "code",
   "execution_count": 11,
   "source": [
    "VV, current175 = Voltage_clamp(solution175)"
   ],
   "outputs": [],
   "metadata": {}
  },
  {
   "cell_type": "code",
   "execution_count": 12,
   "source": [
    "plt.plot(VV, current10[\"I_BK\"])\n",
    "plt.plot(VV, current175[\"I_BK\"])"
   ],
   "outputs": [
    {
     "output_type": "execute_result",
     "data": {
      "text/plain": [
       "[<matplotlib.lines.Line2D at 0x7fef0331fc40>]"
      ]
     },
     "metadata": {},
     "execution_count": 12
    },
    {
     "output_type": "display_data",
     "data": {
      "text/plain": [
       "<Figure size 432x288 with 1 Axes>"
      ],
      "image/png": "[encoded data removed]"
     },
     "metadata": {
      "needs_background": "light"
     }
    }
   ],
   "metadata": {}
  },
  {
   "cell_type": "code",
   "execution_count": null,
   "source": [],
   "outputs": [],
   "metadata": {}
  }
 ],
 "metadata": {
  "interpreter": {
   "hash": "a50fc30a4f44fcde812872b6bef85e51aa13ca528ff3a05721b9ca2a18fe29d7"
  },
  "kernelspec": {
   "name": "python3",
   "display_name": "Python 3.8.2 64-bit ('fenicsproject': conda)"
  },
  "language_info": {
   "codemirror_mode": {
    "name": "ipython",
    "version": 3
   },
   "file_extension": ".py",
   "mimetype": "text/x-python",
   "name": "python",
   "nbconvert_exporter": "python",
   "pygments_lexer": "ipython3",
   "version": "3.8.2"
  }
 },
 "nbformat": 4,
 "nbformat_minor": 4
}