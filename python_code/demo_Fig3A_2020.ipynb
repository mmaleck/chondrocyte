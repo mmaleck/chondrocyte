{
 "cells": [
  {
   "cell_type": "markdown",
   "metadata": {},
   "source": [
    "**Intracellular electrolyte homeostasis in the setting of altered Na+/K+ pupm activity/turnover rate due to a step change in temperatur.** (see Figure 3A in Maleckar et al. 2020)\n",
    "\n",
    "Explaination"
   ]
  },
  {
   "cell_type": "code",
   "execution_count": null,
   "metadata": {},
   "outputs": [],
   "source": [
    "import numpy as np\n",
    "from scipy.integrate.odepack import odeint\n",
    "import matplotlib.pyplot as plt"
   ]
  },
  {
   "cell_type": "code",
   "execution_count": 2,
   "metadata": {},
   "outputs": [],
   "source": [
    "import functions\n",
    "from chondrocyte import Voltage_clamp\n",
    "from params import params_dict"
   ]
  },
  {
   "cell_type": "code",
   "execution_count": 3,
   "metadata": {},
   "outputs": [],
   "source": [
    "# define time span\n",
    "params_dict[\"t_final\"] = 50\n",
    "t_final = params_dict[\"t_final\"]\n",
    "params_dict[\"dt\"] = 1e-2\n",
    "dt = params_dict[\"dt\"]\n",
    "t = np.linspace(0, t_final, int(t_final/dt))"
   ]
  },
  {
   "cell_type": "code",
   "execution_count": 4,
   "metadata": {},
   "outputs": [],
   "source": [
    "# Define initial condition vector\n",
    "y0 = (params_dict[\"V_0\"], params_dict[\"Na_i_0\"], params_dict[\"K_i_0\"], params_dict[\"Ca_i_0\"], params_dict[\"H_i_0\"], \n",
    "      params_dict[\"Cl_i_0\"], params_dict[\"a_ur_0\"], params_dict[\"i_ur_0\"], params_dict[\"vol_i_0\"], \n",
    "      params_dict[\"cal_0\"])"
   ]
  },
  {
   "cell_type": "markdown",
   "metadata": {},
   "source": [
    "Simulation for 23C"
   ]
  },
  {
   "cell_type": "code",
   "execution_count": 5,
   "metadata": {},
   "outputs": [],
   "source": [
    "#set simulation specific parameters\n",
    "params_dict[\"I_NaK_scale\"] = 1.625\n",
    "params_dict[\"I_NaK_bar\"] = params_dict[\"I_NaK_scale\"]*70.8253*params_dict[\"C_m\"]/params_dict[\"C_myo\"]"
   ]
  },
  {
   "cell_type": "code",
   "execution_count": 6,
   "metadata": {},
   "outputs": [],
   "source": [
    "#solve the ODE system which is imported with chondrocyte\n",
    "solution23 = odeint(functions.rhs, y0, t, args=(params_dict,))"
   ]
  },
  {
   "cell_type": "code",
   "execution_count": 7,
   "metadata": {},
   "outputs": [],
   "source": [
    "VV, current23 = Voltage_clamp(solution23)"
   ]
  },
  {
   "cell_type": "markdown",
   "metadata": {},
   "source": [
    "Simulation for 37C"
   ]
  },
  {
   "cell_type": "code",
   "execution_count": 8,
   "metadata": {},
   "outputs": [],
   "source": [
    "params_dict[\"I_NaK_scale\"] = 1.625*4.65\n",
    "params_dict[\"I_NaK_bar\"] = params_dict[\"I_NaK_scale\"]*70.8253*params_dict[\"C_m\"]/params_dict[\"C_myo\"]"
   ]
  },
  {
   "cell_type": "code",
   "execution_count": 9,
   "metadata": {},
   "outputs": [],
   "source": [
    "solution37 = odeint(functions.rhs, y0, t, args=(params_dict,))\n",
    "VV, current37 = Voltage_clamp(solution37)"
   ]
  },
  {
   "cell_type": "code",
   "execution_count": 10,
   "metadata": {},
   "outputs": [
    {
     "data": {
      "text/plain": [
       "[<matplotlib.lines.Line2D at 0x7fed2b7d86d0>]"
      ]
     },
     "execution_count": 10,
     "metadata": {},
     "output_type": "execute_result"
    },
    {
     "data": {
      "image/png": "[encoded data removed]",
      "text/plain": [
       "<Figure size 432x288 with 1 Axes>"
      ]
     },
     "metadata": {
      "needs_background": "light"
     },
     "output_type": "display_data"
    }
   ],
   "source": [
    "plt.plot(VV, current23[\"I_NaK\"])\n",
    "plt.plot(VV, current37[\"I_NaK\"])"
   ]
  },
  {
   "cell_type": "code",
   "execution_count": null,
   "metadata": {},
   "outputs": [],
   "source": []
  }
 ],
 "metadata": {
  "kernelspec": {
   "display_name": "Python 3",
   "language": "python",
   "name": "python3"
  },
  "language_info": {
   "codemirror_mode": {
    "name": "ipython",
    "version": 3
   },
   "file_extension": ".py",
   "mimetype": "text/x-python",
   "name": "python",
   "nbconvert_exporter": "python",
   "pygments_lexer": "ipython3",
   "version": "3.8.2"
  }
 },
 "nbformat": 4,
 "nbformat_minor": 4
}
